{
  "cells": [
    {
      "cell_type": "raw",
      "metadata": {},
      "source": [
        "---\n",
        "title: \"Using IbisML and DuckDB for a Kaggle competition: credit risk model stability\"\n",
        "author: \"Jiting Xu\"\n",
        "date: \"2024-08-22\"\n",
        "categories:\n",
        "    - blog\n",
        "    - duckdb\n",
        "    - machine learning\n",
        "    - feature engineering\n",
        "---"
      ]
    },
    {
      "cell_type": "markdown",
      "metadata": {},
      "source": [
        "## Introduction\n",
        "In this post, we'll demonstrate how to use Ibis and [IbisML](https://github.com/ibis-project/ibis-ml)\n",
        "end-to-end for the\n",
        "[credit risk model stability Kaggle competition](https://www.kaggle.com/competitions/home-credit-credit-risk-model-stability).\n",
        "\n",
        "1. Load data and perform feature engineering on DuckDB backend using IbisML\n",
        "2. Perform last-mile ML data preprocessing on DuckDB backend using IbisML\n",
        "3. Train two models using different frameworks:\n",
        "    * An XGBoost model within a scikit-learn pipeline.\n",
        "    * A neural network with PyTorch and PyTorch Lightning.\n",
        "\n",
        "The aim of this competition is to predict which clients are more likely to default on their\n",
        "loans by using both internal and external data sources.\n",
        "\n",
        "To get started with Ibis and IbisML, please refer to the websites:\n",
        "\n",
        "* [Ibis](https://ibis-project.org/): An open-source dataframe library that works with any data system.\n",
        "* [IbisML](https://ibis-project.github.io/ibis-ml/): A library for building scalable ML pipelines.\n",
        "\n",
        "\n",
        "## Prerequisites\n",
        "To run this example, you'll need to download the data from Kaggle website with a Kaggle user account and install Ibis, IbisML, and the necessary modeling library.\n",
        "\n",
        "### Download data\n",
        "You need a Kaggle account to download the data. If you do not have one,\n",
        "feel free to register one.\n",
        "\n",
        "1. Option 1: Manual download\n",
        "     * Log into your Kaggle account and download all data from this\n",
        "     [link](https://www.kaggle.com/competitions/home-credit-credit-risk-model-stability/data),\n",
        "     unzip the files, and save them to your local disk.\n",
        "2. Option 2: Kaggle API\n",
        "    * Go to your `Kaggle Account Settings`.\n",
        "    * Under the `API` section, click on `Create New API Token`. This will download the `kaggle.json`\n",
        "    file to your computer.\n",
        "    * Place the `kaggle.json` file in the correct directory, normally it is under your home directory\n",
        "    `~/.kaggle`:\n",
        "\n",
        "        ```bash\n",
        "        mkdir ~/.kaggle\n",
        "        mv ~/Downloads/kaggle.json ~/.kaggle\n",
        "        ```\n",
        "    * Install Kaggle CLI and download the data:\n",
        "\n",
        "        ```bash\n",
        "        pip install kaggle\n",
        "        kaggle competitions download -c home-credit-credit-risk-model-stability\n",
        "        unzip home-credit-credit-risk-model-stability.zip\n",
        "        ```\n",
        "\n",
        "### Install libraries\n",
        "To use Ibis and IbisML with the DuckDB backend for building models, you'll need to install the\n",
        "necessary packages. Depending on your preferred machine learning framework, you can choose\n",
        "one of the following installation commands:\n",
        "\n",
        "For PyTorch-based models:\n",
        "\n",
        "```{.bash}\n",
        "pip install 'ibis-framework[duckdb]' ibis-ml torch pytorch-lightning\n",
        "```\n",
        "\n",
        "For XGBoost and scikit-learn-based models:\n",
        "\n",
        "```{.bash}\n",
        "pip install 'ibis-framework[duckdb]' ibis-ml xgboost[scikit-learn]\n",
        "```\n",
        "\n",
        "Import libraries:"
      ]
    },
    {
      "cell_type": "code",
      "metadata": {},
      "source": [
        "import ibis\n",
        "import ibis.expr.datatypes as dt\n",
        "from ibis import _\n",
        "import ibis_ml as ml\n",
        "from pathlib import Path\n",
        "from glob import glob\n",
        "\n",
        "# enable interactive mode for ibis\n",
        "ibis.options.interactive = True"
      ],
      "execution_count": null,
      "outputs": []
    },
    {
      "cell_type": "markdown",
      "metadata": {},
      "source": [
        "Set the backend for computing:"
      ]
    },
    {
      "cell_type": "code",
      "metadata": {},
      "source": [
        "con = ibis.duckdb.connect()\n",
        "# remove the black bars from duckdb's progress bar\n",
        "con.raw_sql(\"set enable_progress_bar = false\")\n",
        "# DuckDB is the default backend for Ibis\n",
        "ibis.set_backend(con)"
      ],
      "execution_count": null,
      "outputs": []
    },
    {
      "cell_type": "markdown",
      "metadata": {},
      "source": [
        "Set data path:"
      ]
    },
    {
      "cell_type": "code",
      "metadata": {},
      "source": [
        "# change the root path to yours\n",
        "ROOT = Path(\"/Users/claypot/Downloads/home-credit-credit-risk-model-stability\")\n",
        "TRAIN_DIR = ROOT / \"parquet_files\" / \"train\"\n",
        "TEST_DIR = ROOT / \"parquet_files\" / \"test\""
      ],
      "execution_count": null,
      "outputs": []
    },
    {
      "cell_type": "markdown",
      "metadata": {},
      "source": [
        "## Data loading and processing\n",
        "We'll use Ibis to read the Parquet files and perform the necessary processing for the next step.\n",
        "\n",
        "### Directory structure and tables\n",
        "Since there are many data files, let's start by examining the directory structure and\n",
        "tables within the train directory:\n",
        "\n",
        "```bash\n",
        "# change this to your directory\n",
        "tree -L 2 ~/Downloads/home-credit-credit-risk-model-stability/parquet_files/train\n",
        "```\n",
        "\n",
        ":::{.callout-note title=\"Click to show data files\" collapse=\"true\"}\n",
        "\n",
        "```bash\n",
        "~/Downloads/home-credit-credit-risk-model-stability/parquet_files/train\n",
        "├── train_applprev_1_0.parquet\n",
        "├── train_applprev_1_1.parquet\n",
        "├── train_applprev_2.parquet\n",
        "├── train_base.parquet\n",
        "├── train_credit_bureau_a_1_0.parquet\n",
        "├── train_credit_bureau_a_1_1.parquet\n",
        "├── train_credit_bureau_a_1_3.parquet\n",
        "├── train_credit_bureau_a_2_0.parquet\n",
        "├── train_credit_bureau_a_2_1.parquet\n",
        "├── train_credit_bureau_a_2_10.parquet\n",
        "├── train_credit_bureau_a_2_2.parquet\n",
        "├── train_credit_bureau_a_2_3.parquet\n",
        "├── train_credit_bureau_a_2_4.parquet\n",
        "├── train_credit_bureau_a_2_5.parquet\n",
        "├── train_credit_bureau_a_2_6.parquet\n",
        "├── train_credit_bureau_a_2_7.parquet\n",
        "├── train_credit_bureau_a_2_8.parquet\n",
        "├── train_credit_bureau_a_2_9.parquet\n",
        "├── train_credit_bureau_b_1.parquet\n",
        "├── train_credit_bureau_b_2.parquet\n",
        "├── train_debitcard_1.parquet\n",
        "├── train_deposit_1.parquet\n",
        "├── train_other_1.parquet\n",
        "├── train_person_1.parquet\n",
        "├── train_person_2.parquet\n",
        "├── train_static_0_0.parquet\n",
        "├── train_static_0_1.parquet\n",
        "├── train_static_cb_0.parquet\n",
        "├── train_tax_registry_a_1.parquet\n",
        "├── train_tax_registry_b_1.parquet\n",
        "└── train_tax_registry_c_1.parquet\n",
        "```\n",
        "\n",
        ":::\n",
        "\n",
        "The `train_base.parquet` file is the base table, while the others are feature tables.\n",
        "Let's take a quick look at these tables.\n",
        "\n",
        "#### Base table\n",
        "The base table (`train_base.parquet`) contains the unique ID, a binary target flag\n",
        "and other information for the training samples. This unique ID will serve as the\n",
        "linking key for joining with other feature tables.\n",
        "\n",
        "* `case_id` - This is the unique ID for each loan. You'll need this ID to\n",
        "  join feature tables to the base table. There are about 1.5m unique loans.\n",
        "* `date_decision` - This refers to the date when a decision was made regarding the\n",
        "  approval of the loan.\n",
        "* `WEEK_NUM` - This is the week number used for aggregation. In the test sample,\n",
        "    `WEEK_NUM` continues sequentially from the last training value of `WEEK_NUM`.\n",
        "* `MONTH` - This column represents the month when the approval decision was made.\n",
        "* `target` - This is the binary target flag, determined after a certain period based on\n",
        "  whether or not the client defaulted on the specific loan.\n",
        "\n",
        "Here is several examples from the base table:"
      ]
    },
    {
      "cell_type": "code",
      "metadata": {},
      "source": [
        "#| code-fold: true\n",
        "#| code-summary: \"Show code to get the top 5 rows of base table\"\n",
        "ibis.read_parquet(TRAIN_DIR / \"train_base.parquet\").head(5)"
      ],
      "execution_count": null,
      "outputs": []
    },
    {
      "cell_type": "markdown",
      "metadata": {},
      "source": [
        "#### Feature tables\n",
        "The remaining files contain features, consisting of approximately 370 features from\n",
        "previous loan applications and external data sources. Their definitions can be found in the feature\n",
        "definition [file](https://www.kaggle.com/competitions/home-credit-credit-risk-model-stability/data)\n",
        "from the competition website.\n",
        "\n",
        "There are several things we want to mention for the feature tables:\n",
        "\n",
        "* **Union datasets**: One dataset could be saved into multiple parquet files, such as\n",
        "`train_applprev_1_0.parquet` and `train_applprev_1_1.parquet`, We need to union this data.\n",
        "* **Dataset levels**: Datasets may have different levels, which we will explain as\n",
        "follows:\n",
        "     * **Depth = 0**: Each row in the table is identified by a unique `case_id`.\n",
        "     In this case, you can directly join the features with the base table and use them as\n",
        "     features for further analysis or processing.\n",
        "     * **Depth > 0**:  You will group the data based on the `case_id` and perform calculations\n",
        "     or aggregations within each group.\n",
        "\n",
        "Here are two examples of tables with different levels.\n",
        "\n",
        "Example of table with depth = 0, `case_id` is the row identifier, features can be directly joined\n",
        " with the base table."
      ]
    },
    {
      "cell_type": "code",
      "metadata": {},
      "source": [
        "#| code-fold: true\n",
        "#| code-summary: \"Show code to get the top 5 rows of user static data\"\n",
        "ibis.read_parquet(TRAIN_DIR / \"train_static_cb_0.parquet\").head(5)"
      ],
      "execution_count": null,
      "outputs": []
    },
    {
      "cell_type": "markdown",
      "metadata": {},
      "source": [
        "Example of a table with depth = 1, we need to aggregate the features and collect statistics\n",
        "based on `case_id` then join with the base table."
      ]
    },
    {
      "cell_type": "code",
      "metadata": {},
      "source": [
        "#| code-fold: true\n",
        "#| code-summary: \"Show code to get the top 5 rows of credit bureau data\"\n",
        "ibis.read_parquet(TRAIN_DIR / \"train_credit_bureau_b_1.parquet\").relocate(\n",
        "    \"num_group1\"\n",
        ").order_by([\"case_id\", \"num_group1\"]).head(5)"
      ],
      "execution_count": null,
      "outputs": []
    },
    {
      "cell_type": "markdown",
      "metadata": {},
      "source": [
        "For more details on features and its exploratory data analysis (EDA), you can refer to\n",
        "feature definition and these Kaggle notebooks:\n",
        "\n",
        "* [Feature\n",
        "  definition](https://www.kaggle.com/competitions/home-credit-credit-risk-model-stability/data#:~:text=calendar_view_week-,feature_definitions,-.csv)\n",
        "* [Home credit risk prediction\n",
        "  EDA](https://www.kaggle.com/code/loki97/home-credit-risk-prediction-eda)\n",
        "* [Home credit CRMS 2024\n",
        "  EDA](https://www.kaggle.com/code/sergiosaharovskiy/home-credit-crms-2024-eda-and-submission)\n",
        "\n",
        "### Data loading and processing\n",
        "We will perform the following data processing steps using Ibis and IbisML:\n",
        "\n",
        "* **Convert data types**: Ensure consistency by converting data types, as the same column\n",
        "  in different sub-files may have different types.\n",
        "* **Aggregate features**: For tables with depth greater than 0, aggregate features based\n",
        "  on `case_id`, including statistics calculation. You can collect statistics such as mean,\n",
        "  median, mode, minimum, standard deviation, and others.\n",
        "* **Union and join datasets**: Combine multiple sub-files of the same dataset into one\n",
        "  table, as some datasets are split into multiple sub-files with a common prefix. Afterward,\n",
        "  join these tables with the base table.\n",
        "\n",
        "#### Convert data types\n",
        "We'll use IbisML to create a chain of `Cast` steps, forming a recipe for data type\n",
        "conversion across the dataset. This conversion is based on the provided information\n",
        "extracted from column names. Columns that have similar transformations are indicated by a\n",
        "capital letter at the end of their names:\n",
        "\n",
        "* P - Transform DPD (Days past due)\n",
        "* M - Masking categories\n",
        "* A - Transform amount\n",
        "* D - Transform date\n",
        "* T - Unspecified Transform\n",
        "* L - Unspecified Transform\n",
        "\n",
        "For example, we'll define a IbisML transformation step to convert columns ends with `P`\n",
        "to floating number:"
      ]
    },
    {
      "cell_type": "code",
      "metadata": {},
      "source": [
        "# convert columns ends with P to floating number\n",
        "step_cast_P_to_float = ml.Cast(ml.endswith(\"P\"), dt.float64)"
      ],
      "execution_count": null,
      "outputs": []
    },
    {
      "cell_type": "markdown",
      "metadata": {},
      "source": [
        "Next, let's define additional type conversion transformations based on the postfix of column names:"
      ]
    },
    {
      "cell_type": "code",
      "metadata": {},
      "source": [
        "#| code-fold: true\n",
        "#| code-summary: \"Show code to define more steps\"\n",
        "# convert columns ends with A to floating number\n",
        "step_cast_A_to_float = ml.Cast(ml.endswith(\"A\"), dt.float64)\n",
        "# convert columns ends with D to date\n",
        "step_cast_D_to_date = ml.Cast(ml.endswith(\"D\"), dt.date)\n",
        "# convert columns ends with M to str\n",
        "step_cast_M_to_str = ml.Cast(ml.endswith(\"M\"), dt.str)"
      ],
      "execution_count": null,
      "outputs": []
    },
    {
      "cell_type": "markdown",
      "metadata": {},
      "source": [
        "We'll construct the\n",
        "[IbisML Recipe](https://ibis-project.github.io/ibis-ml/reference/core.html#ibis_ml.Recipe)\n",
        "which chains together all the transformation steps."
      ]
    },
    {
      "cell_type": "code",
      "metadata": {},
      "source": [
        "#| code-fold: true\n",
        "#| code-summary: \"Show code to construct the recipe\"\n",
        "data_type_recipes = ml.Recipe(\n",
        "    step_cast_P_to_float,\n",
        "    step_cast_D_to_date,\n",
        "    step_cast_M_to_str,\n",
        "    step_cast_A_to_float,\n",
        "    # cast some special columns\n",
        "    ml.Cast([\"date_decision\"], \"date\"),\n",
        "    ml.Cast([\"case_id\", \"WEEK_NUM\", \"num_group1\", \"num_group2\"], dt.int64),\n",
        "    ml.Cast(\n",
        "        [\n",
        "            \"cardtype_51L\",\n",
        "            \"credacc_status_367L\",\n",
        "            \"requesttype_4525192L\",\n",
        "            \"riskassesment_302T\",\n",
        "            \"max_periodicityofpmts_997L\",\n",
        "        ],\n",
        "        dt.str,\n",
        "    ),\n",
        "    ml.Cast(\n",
        "        [\n",
        "            \"isbidproductrequest_292L\",\n",
        "            \"isdebitcard_527L\",\n",
        "            \"equalityempfrom_62L\",\n",
        "        ],\n",
        "        dt.int64,\n",
        "    ),\n",
        ")\n",
        "print(f\"Data format conversion recipe:\\n{data_type_recipes}\")"
      ],
      "execution_count": null,
      "outputs": []
    },
    {
      "cell_type": "markdown",
      "metadata": {},
      "source": [
        "::: {.callout-tip}\n",
        "IbisML offers a powerful set of column selectors, allowing you to select columns based\n",
        "on names, types, and patterns. For more information, you can refer to the IbisML column\n",
        "selectors [documentation](https://ibis-project.github.io/ibis-ml/reference/selectors.html).\n",
        ":::\n",
        "\n",
        "#### Aggregate features\n",
        "For tables with a depth greater than 0 that can't be directly joined with the base table,\n",
        "we need to aggregate the features by the `case_id`. You could compute the different statistics for numeric columns and\n",
        "non-numeric columns.\n",
        "\n",
        "Here, we use the `maximum` as an example."
      ]
    },
    {
      "cell_type": "code",
      "metadata": {},
      "source": [
        "#| code-fold: true\n",
        "#| code-summary: \"Show code to aggregate features by case_id using max\"\n",
        "def agg_by_id(table):\n",
        "    return table.group_by(\"case_id\").agg(\n",
        "        [\n",
        "            table[col_name].max().name(f\"max_{col_name}\")\n",
        "            for col_name in table.columns\n",
        "            if col_name[-1] in (\"T\", \"L\", \"P\", \"A\", \"D\", \"M\")\n",
        "        ]\n",
        "    )"
      ],
      "execution_count": null,
      "outputs": []
    },
    {
      "cell_type": "markdown",
      "metadata": {},
      "source": [
        "::: {.callout-tip}\n",
        "For better predicting power, you need to collect different statistics based on the meaning of features. For simplicity,\n",
        "we'll only collect the maximum value of the features here.\n",
        ":::\n",
        "\n",
        "#### Put them together\n",
        "We'll put them together in a function reads parquet files, optionally handles regex patterns for\n",
        "multiple sub-files, applies data type transformations defined by `data_type_recipes`, and\n",
        "performs aggregation based on `case_id` if specified by the depth parameter."
      ]
    },
    {
      "cell_type": "code",
      "metadata": {},
      "source": [
        "#| code-fold: true\n",
        "#| code-summary: \"Show code to read and process data files\"\n",
        "def read_and_process_files(file_path, depth=None, is_regex=False):\n",
        "    \"\"\"\n",
        "    Read and process Parquet files.\n",
        "\n",
        "    Args:\n",
        "        file_path (str): Path to the file or regex pattern to match files.\n",
        "        depth (int, optional): Depth of processing. If 1 or 2, additional aggregation is performed.\n",
        "        is_regex (bool, optional): Whether the file_path is a regex pattern.\n",
        "\n",
        "    Returns:\n",
        "        ibis.Table: The processed Ibis table.\n",
        "    \"\"\"\n",
        "    if is_regex:\n",
        "        # read and union multiple files\n",
        "        chunks = []\n",
        "        for path in glob(str(file_path)):\n",
        "            chunk = ibis.read_parquet(path)\n",
        "            # transform table using IbisML Recipe\n",
        "            chunk = data_type_recipes.fit(chunk).to_ibis(chunk)\n",
        "            chunks.append(chunk)\n",
        "        table = ibis.union(*chunks)\n",
        "    else:\n",
        "        # read a single file\n",
        "        table = ibis.read_parquet(file_path)\n",
        "        # transform table using IbisML\n",
        "        table = data_type_recipes.fit(table).to_ibis(table)\n",
        "\n",
        "    # perform aggregation if depth is 1 or 2\n",
        "    if depth in [1, 2]:\n",
        "        table = agg_by_id(table)\n",
        "\n",
        "    return table"
      ],
      "execution_count": null,
      "outputs": []
    },
    {
      "cell_type": "markdown",
      "metadata": {},
      "source": [
        "Let's define two dictionaries, `train_data_store` and `test_data_store`, that organize and\n",
        "store processed datasets for training and testing datasets."
      ]
    },
    {
      "cell_type": "code",
      "metadata": {},
      "source": [
        "#| code-fold: true\n",
        "#| code-summary: \"Show code to load all data into a dict\"\n",
        "train_data_store = {\n",
        "    \"df_base\": read_and_process_files(TRAIN_DIR / \"train_base.parquet\"),\n",
        "    \"depth_0\": [\n",
        "        read_and_process_files(TRAIN_DIR / \"train_static_cb_0.parquet\"),\n",
        "        read_and_process_files(TRAIN_DIR / \"train_static_0_*.parquet\", is_regex=True),\n",
        "    ],\n",
        "    \"depth_1\": [\n",
        "        read_and_process_files(\n",
        "            TRAIN_DIR / \"train_applprev_1_*.parquet\", 1, is_regex=True\n",
        "        ),\n",
        "        read_and_process_files(TRAIN_DIR / \"train_tax_registry_a_1.parquet\", 1),\n",
        "        read_and_process_files(TRAIN_DIR / \"train_tax_registry_b_1.parquet\", 1),\n",
        "        read_and_process_files(TRAIN_DIR / \"train_tax_registry_c_1.parquet\", 1),\n",
        "        read_and_process_files(TRAIN_DIR / \"train_credit_bureau_b_1.parquet\", 1),\n",
        "        read_and_process_files(TRAIN_DIR / \"train_other_1.parquet\", 1),\n",
        "        read_and_process_files(TRAIN_DIR / \"train_person_1.parquet\", 1),\n",
        "        read_and_process_files(TRAIN_DIR / \"train_deposit_1.parquet\", 1),\n",
        "        read_and_process_files(TRAIN_DIR / \"train_debitcard_1.parquet\", 1),\n",
        "    ],\n",
        "    \"depth_2\": [\n",
        "        read_and_process_files(TRAIN_DIR / \"train_credit_bureau_b_2.parquet\", 2),\n",
        "    ],\n",
        "}\n",
        "# we won't be submitting the predictions, so let's comment out the test data.\n",
        "# test_data_store = {\n",
        "#     \"df_base\": read_and_process_files(TEST_DIR / \"test_base.parquet\"),\n",
        "#     \"depth_0\": [\n",
        "#         read_and_process_files(TEST_DIR / \"test_static_cb_0.parquet\"),\n",
        "#         read_and_process_files(TEST_DIR / \"test_static_0_*.parquet\", is_regex=True),\n",
        "#     ],\n",
        "#     \"depth_1\": [\n",
        "#         read_and_process_files(TEST_DIR / \"test_applprev_1_*.parquet\", 1, is_regex=True),\n",
        "#         read_and_process_files(TEST_DIR / \"test_tax_registry_a_1.parquet\", 1),\n",
        "#         read_and_process_files(TEST_DIR / \"test_tax_registry_b_1.parquet\", 1),\n",
        "#         read_and_process_files(TEST_DIR / \"test_tax_registry_c_1.parquet\", 1),\n",
        "#         read_and_process_files(TEST_DIR / \"test_credit_bureau_b_1.parquet\", 1),\n",
        "#         read_and_process_files(TEST_DIR / \"test_other_1.parquet\", 1),\n",
        "#         read_and_process_files(TEST_DIR / \"test_person_1.parquet\", 1),\n",
        "#         read_and_process_files(TEST_DIR / \"test_deposit_1.parquet\", 1),\n",
        "#         read_and_process_files(TEST_DIR / \"test_debitcard_1.parquet\", 1),\n",
        "#     ],\n",
        "#     \"depth_2\": [\n",
        "#         read_and_process_files(TEST_DIR / \"test_credit_bureau_b_2.parquet\", 2),\n",
        "#     ]\n",
        "# }"
      ],
      "execution_count": null,
      "outputs": []
    },
    {
      "cell_type": "markdown",
      "metadata": {},
      "source": [
        "Join all features data to base table:"
      ]
    },
    {
      "cell_type": "code",
      "metadata": {},
      "source": [
        "#| code-fold: true\n",
        "#| code-summary: \"Define function to join feature tables to base table\"\n",
        "def join_data(df_base, depth_0, depth_1, depth_2):\n",
        "    for i, df in enumerate(depth_0 + depth_1 + depth_2):\n",
        "        df_base = df_base.join(\n",
        "            df, \"case_id\", how=\"left\", rname=\"{name}_right\" + f\"_{i}\"\n",
        "        )\n",
        "    return df_base"
      ],
      "execution_count": null,
      "outputs": []
    },
    {
      "cell_type": "markdown",
      "metadata": {},
      "source": [
        "Generate train and test datasets:"
      ]
    },
    {
      "cell_type": "code",
      "metadata": {},
      "source": [
        "#| code-fold: true\n",
        "#| code-summary: \"Show code to generate train and test datasets\"\n",
        "df_train = join_data(**train_data_store)\n",
        "# df_test = join_data(**test_data_store)\n",
        "total_rows = df_train.count().execute()\n",
        "print(f\"There is {total_rows} rows and {len(df_train.columns)} columns\")"
      ],
      "execution_count": null,
      "outputs": []
    },
    {
      "cell_type": "markdown",
      "metadata": {},
      "source": [
        "### Select features\n",
        "Given the large number of features (~370), we'll focus on selecting just a few of the most\n",
        "informative ones by name for demonstration purposes in this post:"
      ]
    },
    {
      "cell_type": "code",
      "metadata": {},
      "source": [
        "#| code-fold: true\n",
        "#| code-summary: \"Show code to select important features for the train dataset\"\n",
        "df_train = df_train.select(\n",
        "    \"case_id\",\n",
        "    \"date_decision\",\n",
        "    \"target\",\n",
        "    # number of credit bureau queries for the last X days.\n",
        "    \"days30_165L\",\n",
        "    \"days360_512L\",\n",
        "    \"days90_310L\",\n",
        "    # number of tax deduction payments\n",
        "    \"pmtscount_423L\",\n",
        "    # sum of tax deductions for the client\n",
        "    \"pmtssum_45A\",\n",
        "    \"dateofbirth_337D\",\n",
        "    \"education_1103M\",\n",
        "    \"firstquarter_103L\",\n",
        "    \"secondquarter_766L\",\n",
        "    \"thirdquarter_1082L\",\n",
        "    \"fourthquarter_440L\",\n",
        "    \"maritalst_893M\",\n",
        "    \"numberofqueries_373L\",\n",
        "    \"requesttype_4525192L\",\n",
        "    \"responsedate_4527233D\",\n",
        "    \"actualdpdtolerance_344P\",\n",
        "    \"amtinstpaidbefduel24m_4187115A\",\n",
        "    \"annuity_780A\",\n",
        "    \"annuitynextmonth_57A\",\n",
        "    \"applicationcnt_361L\",\n",
        "    \"applications30d_658L\",\n",
        "    \"applicationscnt_1086L\",\n",
        "    # average days past or before due of payment during the last 24 months.\n",
        "    \"avgdbddpdlast24m_3658932P\",\n",
        "    # average days past or before due of payment during the last 3 months.\n",
        "    \"avgdbddpdlast3m_4187120P\",\n",
        "    # end date of active contract.\n",
        "    \"max_contractmaturitydate_151D\",\n",
        "    # credit limit of an active loan.\n",
        "    \"max_credlmt_1052A\",\n",
        "    # number of credits in credit bureau\n",
        "    \"max_credquantity_1099L\",\n",
        "    \"max_dpdmaxdatemonth_804T\",\n",
        "    \"max_dpdmaxdateyear_742T\",\n",
        "    \"max_maxdebtpduevalodued_3940955A\",\n",
        "    \"max_overdueamountmax_950A\",\n",
        "    \"max_purposeofcred_722M\",\n",
        "    \"max_residualamount_3940956A\",\n",
        "    \"max_totalamount_503A\",\n",
        "    \"max_cancelreason_3545846M\",\n",
        "    \"max_childnum_21L\",\n",
        "    \"max_currdebt_94A\",\n",
        "    \"max_employedfrom_700D\",\n",
        "    # client's main income amount in their previous application\n",
        "    \"max_mainoccupationinc_437A\",\n",
        "    \"max_profession_152M\",\n",
        "    \"max_rejectreason_755M\",\n",
        "    \"max_status_219L\",\n",
        "    # credit amount of the active contract provided by the credit bureau\n",
        "    \"max_amount_1115A\",\n",
        "    # amount of unpaid debt for existing contracts\n",
        "    \"max_debtpastduevalue_732A\",\n",
        "    \"max_debtvalue_227A\",\n",
        "    \"max_installmentamount_833A\",\n",
        "    \"max_instlamount_892A\",\n",
        "    \"max_numberofinstls_810L\",\n",
        "    \"max_pmtnumpending_403L\",\n",
        "    \"max_last180dayaveragebalance_704A\",\n",
        "    \"max_last30dayturnover_651A\",\n",
        "    \"max_openingdate_857D\",\n",
        "    \"max_amount_416A\",\n",
        "    \"max_amtdebitincoming_4809443A\",\n",
        "    \"max_amtdebitoutgoing_4809440A\",\n",
        "    \"max_amtdepositbalance_4809441A\",\n",
        "    \"max_amtdepositincoming_4809444A\",\n",
        "    \"max_amtdepositoutgoing_4809442A\",\n",
        "    \"max_empl_industry_691L\",\n",
        "    \"max_gender_992L\",\n",
        "    \"max_housingtype_772L\",\n",
        "    \"max_mainoccupationinc_384A\",\n",
        "    \"max_incometype_1044T\",\n",
        ")\n",
        "\n",
        "df_train.head()"
      ],
      "execution_count": null,
      "outputs": []
    },
    {
      "cell_type": "markdown",
      "metadata": {},
      "source": [
        "Univariate analysis:"
      ]
    },
    {
      "cell_type": "code",
      "metadata": {},
      "source": [
        "#| code-fold: true\n",
        "#| code-summary: \"Show code to describe the train dataset\"\n",
        "# take the first 10 columns\n",
        "df_train[df_train.columns[:10]].describe()"
      ],
      "execution_count": null,
      "outputs": []
    },
    {
      "cell_type": "markdown",
      "metadata": {},
      "source": [
        "## Last-mile data preprocessing\n",
        "We will perform the following transformation before feeding the data to models:\n",
        "\n",
        "* Missing value imputation\n",
        "* Encoding categorical variables\n",
        "* Handling date variables\n",
        "* Handling outliers\n",
        "* Scaling and normalization\n",
        "\n",
        "::: {.callout-note}\n",
        "IbisML provides a set of transformations. You can find the\n",
        "[roadmap](https://github.com/ibis-project/ibis-ml/issues/32).\n",
        "The [IbisML website](https://ibis-project.github.io/ibis-ml/) also includes tutorials and API documentation.\n",
        ":::\n",
        "\n",
        "### Impute features\n",
        "Impute all numeric columns using the median. In real-life scenarios, it's important to\n",
        "understand the meaning of each feature and apply the appropriate imputation method for\n",
        "different features. For more imputations, please refer to this\n",
        "[documentation](https://ibis-project.github.io/ibis-ml/reference/steps-imputation.html)."
      ]
    },
    {
      "cell_type": "code",
      "metadata": {},
      "source": [
        "#| code-fold: true\n",
        "#| code-summary: \"Show code to impute all numeric columns with median\"\n",
        "step_impute_median = ml.ImputeMedian(ml.numeric())"
      ],
      "execution_count": null,
      "outputs": []
    },
    {
      "cell_type": "markdown",
      "metadata": {},
      "source": [
        "### Encode categorical features\n",
        "Encode all categorical features using one-hot-encode. For more encoding steps,\n",
        "please refer to this\n",
        "[doc](https://ibis-project.github.io/ibis-ml/reference/steps-encoding.html)."
      ]
    },
    {
      "cell_type": "code",
      "metadata": {},
      "source": [
        "#| code-fold: true\n",
        "#| code-summary: \"Show code to one-hot encode selected columns\"\n",
        "ohe_step = ml.OneHotEncode(\n",
        "    [\n",
        "        \"maritalst_893M\",\n",
        "        \"requesttype_4525192L\",\n",
        "        \"max_profession_152M\",\n",
        "        \"max_gender_992L\",\n",
        "        \"max_empl_industry_691L\",\n",
        "        \"max_housingtype_772L\",\n",
        "        \"max_incometype_1044T\",\n",
        "        \"max_cancelreason_3545846M\",\n",
        "        \"max_rejectreason_755M\",\n",
        "        \"education_1103M\",\n",
        "        \"max_status_219L\",\n",
        "    ]\n",
        ")"
      ],
      "execution_count": null,
      "outputs": []
    },
    {
      "cell_type": "markdown",
      "metadata": {},
      "source": [
        "### Handle date variables\n",
        "Calculate all the days difference between any date columns and the column `date_decision`:"
      ]
    },
    {
      "cell_type": "code",
      "metadata": {},
      "source": [
        "#| code-fold: true\n",
        "#| code-summary: \"Show code to calculate days difference between date columns and date_decision\"\n",
        "date_cols = [col_name for col_name in df_train.columns if col_name[-1] == \"D\"]\n",
        "days_to_decision_expr = {\n",
        "    # difference in days\n",
        "    f\"{col}_date_decision_diff\": (\n",
        "        _.date_decision.epoch_seconds() - getattr(_, col).epoch_seconds()\n",
        "    )\n",
        "    / (60 * 60 * 24)\n",
        "    for col in date_cols\n",
        "}\n",
        "days_to_decision_step = ml.Mutate(days_to_decision_expr)"
      ],
      "execution_count": null,
      "outputs": []
    },
    {
      "cell_type": "markdown",
      "metadata": {},
      "source": [
        "Extract information from the date columns:"
      ]
    },
    {
      "cell_type": "code",
      "metadata": {},
      "source": [
        "#| code-fold: true\n",
        "#| code-summary: \"Show code to extract day and week info from date columns\"\n",
        "# dow and month is set to catagoery\n",
        "expand_date_step = ml.ExpandDate(ml.date(), [\"week\", \"day\"])"
      ],
      "execution_count": null,
      "outputs": []
    },
    {
      "cell_type": "markdown",
      "metadata": {},
      "source": [
        "### Handle outliers\n",
        "Capping outliers using `z-score` method:"
      ]
    },
    {
      "cell_type": "code",
      "metadata": {},
      "source": [
        "#| code-fold: true\n",
        "#| code-summary: \"Show code to cap outliers for selected columns\"\n",
        "step_handle_outliers = ml.HandleUnivariateOutliers(\n",
        "    [\"max_amount_1115A\", \"max_overdueamountmax_950A\"],\n",
        "    method=\"z-score\",\n",
        "    treatment=\"capping\",\n",
        "    deviation_factor=3,\n",
        ")"
      ],
      "execution_count": null,
      "outputs": []
    },
    {
      "cell_type": "markdown",
      "metadata": {},
      "source": [
        "### Construct recipe\n",
        "We'll construct the last mile preprocessing [recipe](https://ibis-project.github.io/ibis-ml/reference/core.html#ibis_ml.Recipe)\n",
        "by chaining all transformation steps, which will be fitted to the training dataset and later applied test datasets."
      ]
    },
    {
      "cell_type": "code",
      "metadata": {},
      "source": [
        "#| code-fold: true\n",
        "#| code-summary: \"Show code to construct the recipe\"\n",
        "last_mile_preprocessing = ml.Recipe(\n",
        "    expand_date_step,\n",
        "    ml.Drop(ml.date()),\n",
        "    # handle string columns\n",
        "    ohe_step,\n",
        "    ml.Drop(ml.string()),\n",
        "    # handle numeric cols\n",
        "    # capping outliers\n",
        "    step_handle_outliers,\n",
        "    step_impute_median,\n",
        "    ml.ScaleMinMax(ml.numeric()),\n",
        "    # fill missing value\n",
        "    ml.FillNA(ml.numeric(), 0),\n",
        "    ml.Cast(ml.numeric(), \"float32\"),\n",
        ")\n",
        "print(f\"Last-mile preprocessing recipe: \\n{last_mile_preprocessing}\")"
      ],
      "execution_count": null,
      "outputs": []
    },
    {
      "cell_type": "markdown",
      "metadata": {},
      "source": [
        "## Modeling\n",
        "After completing data preprocessing with Ibis and IbisML, we proceed to the modeling\n",
        "phase. Here are two approaches:\n",
        "\n",
        "* Use IbisML as a independent data preprocessing component and hand off the data to downstream modeling\n",
        "frameworks with various output formats:\n",
        "     - pandas Dataframe\n",
        "     - NumPy Array\n",
        "     - Polars Dataframe\n",
        "     - Dask Dataframe\n",
        "     - xgboost.DMatrix\n",
        "     - Pyarrow Table\n",
        "* Use IbisML recipes as components within an sklearn Pipeline and\n",
        "train models similarly to how you would do with sklearn pipeline.\n",
        "\n",
        "We will build an XGBoost model within a scikit-learn pipeline, and a neural network classifier using the\n",
        "output transformed by IbisML recipes.\n",
        "\n",
        "### Train and test data splitting\n",
        "We'll use hashing on the unique key to consistently split rows to different groups.\n",
        "Hashing is robust to underlying changes in the data, such as adding, deleting, or\n",
        "reordering rows. This deterministic process ensures that each data point is always\n",
        "assigned to the same split, thereby enhancing reproducibility."
      ]
    },
    {
      "cell_type": "code",
      "metadata": {},
      "source": [
        "#| code-fold: true\n",
        "#| code-summary: \"Show code to split data into train and test\"\n",
        "import random\n",
        "\n",
        "# this enables the analysis to be reproducible when random numbers are used\n",
        "random.seed(222)\n",
        "random_key = str(random.getrandbits(256))\n",
        "\n",
        "# put 3/4 of the data into the training set\n",
        "df_train = df_train.mutate(\n",
        "    train_flag=(df_train.case_id.cast(dt.str) + random_key).hash().abs() % 4 < 3\n",
        ")\n",
        "# split the dataset by train_flag\n",
        "# todo: use ml.train_test_split() after next release\n",
        "train_data = df_train[df_train.train_flag].drop(\"train_flag\")\n",
        "test_data = df_train[~df_train.train_flag].drop(\"train_flag\")\n",
        "\n",
        "X_train = train_data.drop(\"target\")\n",
        "y_train = train_data.target.cast(dt.float32).name(\"target\")\n",
        "\n",
        "X_test = test_data.drop(\"target\")\n",
        "y_test = test_data.target.cast(dt.float32).name(\"target\")\n",
        "\n",
        "train_cnt = X_train.count().execute()\n",
        "test_cnt = X_test.count().execute()\n",
        "print(f\"train dataset size = {train_cnt} \\ntest data size = {test_cnt}\")"
      ],
      "execution_count": null,
      "outputs": []
    },
    {
      "cell_type": "markdown",
      "metadata": {},
      "source": [
        "::: {.callout-warning}\n",
        "Hashing provides a consistent but pseudo-random distribution of data, which\n",
        "may not precisely align with the specified train/test ratio. While hash codes\n",
        "ensure reproducibility, they don't guarantee an exact split. Due to statistical variance,\n",
        "you might find a slight imbalance in the distribution, resulting in marginally more or\n",
        "fewer samples in either the training or test dataset than the target percentage. This\n",
        "minor deviation from the intended ratio is a normal consequence of hash-based\n",
        "partitioning.\n",
        ":::\n",
        "\n",
        "### XGBoost\n",
        "In this section, we integrate XGBoost into a scikit-learn pipeline to create a\n",
        "streamlined workflow for training and evaluating our model.\n",
        "\n",
        "We'll set up a pipeline that includes two components:\n",
        "\n",
        "* **Preprocessing**: This step applies the `last_mile_preprocessing` for final data preprocessing.\n",
        "* **Modeling**: This step applies the `xgb.XGBClassifier()` to train the XGBoost model."
      ]
    },
    {
      "cell_type": "code",
      "metadata": {},
      "source": [
        "#| code-fold: true\n",
        "#| code-summary: \"Show code to built and fit the pipeline\"\n",
        "from sklearn.pipeline import Pipeline\n",
        "from sklearn.metrics import roc_auc_score\n",
        "import xgboost as xgb\n",
        "\n",
        "model = xgb.XGBClassifier(\n",
        "    n_estimators=100,\n",
        "    max_depth=5,\n",
        "    learning_rate=0.05,\n",
        "    subsample=0.8,\n",
        "    colsample_bytree=0.8,\n",
        "    random_state=42,\n",
        ")\n",
        "# create the pipeline with the last mile ML recipes and the model\n",
        "pipe = Pipeline([(\"last_mile_recipes\", last_mile_preprocessing), (\"model\", model)])\n",
        "# fit the pipeline on the training data\n",
        "pipe.fit(X_train, y_train)"
      ],
      "execution_count": null,
      "outputs": []
    },
    {
      "cell_type": "markdown",
      "metadata": {},
      "source": [
        "Let's evaluate the model on the test data using Gini index:"
      ]
    },
    {
      "cell_type": "code",
      "metadata": {},
      "source": [
        "#| code-fold: true\n",
        "#| code-summary: \"Show code to calculate the Gini score for the test dataset\"\n",
        "y_pred_proba = pipe.predict_proba(X_test)[:, 1]\n",
        "# calculate the AUC score\n",
        "auc = roc_auc_score(y_test, y_pred_proba)\n",
        "\n",
        "# calculate the Gini score\n",
        "gini_score = 2 * auc - 1\n",
        "print(f\"gini_score for test dataset: {gini_score:,}\")"
      ],
      "execution_count": null,
      "outputs": []
    },
    {
      "cell_type": "markdown",
      "metadata": {},
      "source": [
        "::: {.callout-note}\n",
        "The competition is evaluated using a Gini stability metric. For more information, see the\n",
        "[evaluation guidelines](https://www.kaggle.com/competitions/home-credit-credit-risk-model-stability/overview/evaluation)\n",
        ":::\n",
        "\n",
        "### Neural network classifier\n",
        "Build a neural network classifier using PyTorch and PyTorch Lightning.\n",
        "\n",
        "::: {.callout-warning}\n",
        "It is not recommended to build a neural network classifier for this competition, we are building\n",
        "it solely for demonstration purposes.\n",
        ":::\n",
        "\n",
        "We'll demonstrate how to build a model by directly passing the data to it. IbisML recipes can output\n",
        "data in various formats, making it compatible with different modeling frameworks.\n",
        "Let's first train the recipe:"
      ]
    },
    {
      "cell_type": "code",
      "metadata": {},
      "source": [
        "#| code-fold: true\n",
        "#| code-summary: \"Show code to train the IbisML recipe\"\n",
        "# train preprocessing recipe using training dataset\n",
        "last_mile_preprocessing.fit(X_train, y_train)"
      ],
      "execution_count": null,
      "outputs": []
    },
    {
      "cell_type": "markdown",
      "metadata": {},
      "source": [
        "In the previous cell, we trained the recipe using the training dataset. Now, we will\n",
        "transform both the train and test datasets using the same recipe. The default output format is a `NumPy array`"
      ]
    },
    {
      "cell_type": "code",
      "metadata": {},
      "source": [
        "#| code-fold: true\n",
        "#| code-summary: \"Show code to transform the datasets using fitted recipe\"\n",
        "# transform train and test dataset using IbisML recipe\n",
        "X_train_transformed = last_mile_preprocessing.transform(X_train)\n",
        "X_test_transformed = last_mile_preprocessing.transform(X_test)\n",
        "print(f\"train data shape = {X_train_transformed.shape}\")\n",
        "print(f\"test data shape = {X_test_transformed.shape}\")"
      ],
      "execution_count": null,
      "outputs": []
    },
    {
      "cell_type": "markdown",
      "metadata": {},
      "source": [
        "Let's define a neural network classifier using PyTorch and PyTorch Lighting:"
      ]
    },
    {
      "cell_type": "code",
      "metadata": {},
      "source": [
        "#| code-fold: true\n",
        "#| code-summary: \"Show code to define a torch classifier\"\n",
        "import numpy as np\n",
        "import torch\n",
        "import torch.nn as nn\n",
        "import torch.optim as optim\n",
        "from torch.utils.data import DataLoader, TensorDataset\n",
        "import pytorch_lightning as pl\n",
        "from pytorch_lightning import Trainer\n",
        "\n",
        "\n",
        "class NeuralNetClassifier(pl.LightningModule):\n",
        "    def __init__(self, input_dim, hidden_dim=8, output_dim=1):\n",
        "        super().__init__()\n",
        "        self.model = nn.Sequential(\n",
        "            nn.Linear(input_dim, hidden_dim),\n",
        "            nn.ReLU(),\n",
        "            nn.Linear(hidden_dim, output_dim),\n",
        "        )\n",
        "        self.loss = nn.BCEWithLogitsLoss()\n",
        "        self.sigmoid = nn.Sigmoid()\n",
        "\n",
        "    def forward(self, x):\n",
        "        return self.model(x)\n",
        "\n",
        "    def training_step(self, batch, batch_idx):\n",
        "        x, y = batch\n",
        "        y_hat = self(x)\n",
        "        loss = self.loss(y_hat.view(-1), y)\n",
        "        self.log(\"train_loss\", loss)\n",
        "        return loss\n",
        "\n",
        "    def validation_step(self, batch, batch_idx):\n",
        "        x, y = batch\n",
        "        y_hat = self(x)\n",
        "        loss = self.loss(y_hat.view(-1), y)\n",
        "        self.log(\"val_loss\", loss)\n",
        "        return loss\n",
        "\n",
        "    def configure_optimizers(self):\n",
        "        return optim.Adam(self.parameters(), lr=0.001)\n",
        "\n",
        "    def predict_proba(self, x):\n",
        "        self.eval()\n",
        "        with torch.no_grad():\n",
        "            x = x.to(self.device)\n",
        "            return self.sigmoid(self(x))\n",
        "\n",
        "# initialize your Lightning Module\n",
        "nn_classifier = NeuralNetClassifier(input_dim=X_train_transformed.shape[1])"
      ],
      "execution_count": null,
      "outputs": []
    },
    {
      "cell_type": "markdown",
      "metadata": {},
      "source": [
        "Now, we'll create the PyTorch DataLoader using the output from IbisML:"
      ]
    },
    {
      "cell_type": "code",
      "metadata": {},
      "source": [
        "#| code-fold: true\n",
        "#| code-summary: \"Show code to convert IbisML output to tensor\"\n",
        "y_train_array = y_train.to_pandas().to_numpy().astype(np.float32)\n",
        "x_train_tensor = torch.from_numpy(X_train_transformed)\n",
        "y_train_tensor = torch.from_numpy(y_train_array)\n",
        "train_dataset = TensorDataset(x_train_tensor, y_train_tensor)\n",
        "\n",
        "y_test_array = y_test.to_pandas().to_numpy().astype(np.float32)\n",
        "X_test_tensor = torch.from_numpy(X_test_transformed)\n",
        "y_test_tensor = torch.from_numpy(y_test_array)\n",
        "val_dataset = TensorDataset(X_test_tensor, y_test_tensor)\n",
        "\n",
        "train_loader = DataLoader(train_dataset, batch_size=32, shuffle=False)\n",
        "val_loader = DataLoader(val_dataset, batch_size=32, shuffle=False)"
      ],
      "execution_count": null,
      "outputs": []
    },
    {
      "cell_type": "markdown",
      "metadata": {},
      "source": [
        "Initialize the PyTorch Lightning Trainer:"
      ]
    },
    {
      "cell_type": "code",
      "metadata": {},
      "source": [
        "#| code-fold: true\n",
        "#| code-summary: \"Show code to construct PyTorch Lightning Trainer\"\n",
        "# initialize a Trainer\n",
        "trainer = Trainer(max_epochs=2)\n",
        "print(nn_classifier)"
      ],
      "execution_count": null,
      "outputs": []
    },
    {
      "cell_type": "markdown",
      "metadata": {},
      "source": [
        "Let's train the classifier:"
      ]
    },
    {
      "cell_type": "code",
      "metadata": {},
      "source": [
        "#| code-fold: true\n",
        "#| code-summary: \"Show code to train the pytorch classifier\"\n",
        "# train the model\n",
        "trainer.fit(nn_classifier, train_loader, val_loader)"
      ],
      "execution_count": null,
      "outputs": []
    },
    {
      "cell_type": "markdown",
      "metadata": {},
      "source": [
        "Let's use the trained model to make a prediction:"
      ]
    },
    {
      "cell_type": "code",
      "metadata": {},
      "source": [
        "#| code-fold: true\n",
        "#| code-summary: \"Show code to predict using the trained pytorch classifier\"\n",
        "y_pred = nn_classifier.predict_proba(X_test_tensor[:10])\n",
        "y_pred"
      ],
      "execution_count": null,
      "outputs": []
    },
    {
      "cell_type": "markdown",
      "metadata": {},
      "source": [
        "## Takeaways\n",
        "IbisML provides a powerful suite of last-mile preprocessing transformations, including an advanced column selector\n",
        "that streamlines the selection and transformation of specific columns in your dataset.\n",
        "\n",
        "It integrates seamlessly with scikit-learn pipelines, allowing you to incorporate preprocessing recipes directly into\n",
        "your workflow. Additionally, IbisML supports a variety of data output formats such as Dask, NumPy, and Arrow, ensuring\n",
        "compatibility with different machine learning frameworks.\n",
        "\n",
        "Another key advantage of IbisML is its flexibility in performing data preprocessing across multiple backends, including\n",
        "DuckDB, Polars, Spark, BigQuery, and other Ibis backends. This enables you to preprocess your training data\n",
        "using the backend that best suits your needs, whether for large or small datasets, on local machines or compute backends,\n",
        "and in both development and production environments. Stay tuned for a future post where we will explore this capability in\n",
        "more detail.\n",
        "\n",
        "## Reference\n",
        "* [1st Place Solution](https://www.kaggle.com/code/yuuniekiri/fork-of-home-credit-risk-lightgbm)\n",
        "* [home-credit-2024-starter-notebook](https://www.kaggle.com/code/jetakow/home-credit-2024-starter-notebook)\n",
        "* [EDA and Submission](https://www.kaggle.com/competitions/home-credit-credit-risk-model-stability/discussion/508337)\n",
        "* [Home Credit Baseline](https://www.kaggle.com/code/greysky/home-credit-baseline)"
      ]
    }
  ],
  "metadata": {
    "kernelspec": {
      "name": "python3",
      "language": "python",
      "display_name": "Python 3 (ipykernel)"
    }
  },
  "nbformat": 4,
  "nbformat_minor": 4
}